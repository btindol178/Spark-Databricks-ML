{
 "cells": [
  {
   "cell_type": "code",
   "execution_count": 1,
   "metadata": {},
   "outputs": [],
   "source": [
    "import findspark\n",
    "findspark.init()"
   ]
  },
  {
   "cell_type": "code",
   "execution_count": 2,
   "metadata": {},
   "outputs": [],
   "source": [
    "\n",
    "import pyspark # only run after findspark.init()\n",
    "from pyspark.sql import SparkSession\n",
    "spark = SparkSession.builder.getOrCreate()"
   ]
  },
  {
   "cell_type": "code",
   "execution_count": 3,
   "metadata": {},
   "outputs": [],
   "source": [
    "# when the code actualy connects to hue hdfs\n",
    "data_file = \"/user/cloudera/Default2.csv\"\n",
    "df = spark.read.load(data_file, format=\"csv\", sep=\",\", inferSchema=\"true\", header=\"true\")"
   ]
  },
  {
   "cell_type": "code",
   "execution_count": 4,
   "metadata": {},
   "outputs": [
    {
     "name": "stdout",
     "output_type": "stream",
     "text": [
      "+--------+-------+-------+-----------+-----------+\n",
      "|RecordID|default|student|    balance|     income|\n",
      "+--------+-------+-------+-----------+-----------+\n",
      "|    1137|    Yes|     No|    2499.02|51504.29396|\n",
      "|       2|     No|    Yes|817.1804066| 12106.1347|\n",
      "|    6076|    Yes|     PT|    2413.32|38540.57271|\n",
      "|    9874|     No|     No|    2391.01|50302.90956|\n",
      "|       5|     No|     PT|785.6558829|38463.49588|\n",
      "|       6|     No|    Yes|919.5885305|7491.558572|\n",
      "|    6335|    Yes|     PT|     2343.8|51095.29393|\n",
      "|       8|     No|    Yes|808.6675043|17600.45134|\n",
      "|    9894|    Yes|     PT|    2288.41|52043.56905|\n",
      "|    8265|    Yes|     PT|    2236.76|37113.88307|\n",
      "|      11|     No|    Yes|        0.0|21871.07309|\n",
      "|      12|     No|    Yes|1220.583753|13268.56222|\n",
      "|    3190|    Yes|     PT|    2228.47|27438.34899|\n",
      "|    1360|    Yes|     PT|    2220.97|40725.09621|\n",
      "|    9979|    Yes|     PT|    2202.46|47287.25711|\n",
      "+--------+-------+-------+-----------+-----------+\n",
      "only showing top 15 rows\n",
      "\n",
      "(10000, 5)\n"
     ]
    }
   ],
   "source": [
    "df.show(15) # showing 15 records\n",
    "print((df.count(), len(df.columns))) # 10000 rows and 5 columns"
   ]
  },
  {
   "cell_type": "code",
   "execution_count": 5,
   "metadata": {},
   "outputs": [
    {
     "name": "stdout",
     "output_type": "stream",
     "text": [
      "+--------+-------+-------+-------+------+\n",
      "|RecordID|default|student|balance|income|\n",
      "+--------+-------+-------+-------+------+\n",
      "+--------+-------+-------+-------+------+\n",
      "\n",
      "+--------+-------+-------+-----------+-----------+\n",
      "|RecordID|default|student|    balance|     income|\n",
      "+--------+-------+-------+-----------+-----------+\n",
      "|      40|     No|   null|653.1184001| 39489.5947|\n",
      "|      71|     No|   null|       null|31577.61513|\n",
      "+--------+-------+-------+-----------+-----------+\n",
      "\n",
      "+--------+-------+-------+----------+-----------+\n",
      "|RecordID|default|student|   balance|     income|\n",
      "+--------+-------+-------+----------+-----------+\n",
      "|      76|   null|    Yes|752.459946|16211.27579|\n",
      "|      48|   null|     No|   1228.31|37408.50387|\n",
      "|      49|   null|     No|    820.92|47746.54207|\n",
      "+--------+-------+-------+----------+-----------+\n",
      "\n",
      "+--------+-------+-------+-----------+------+\n",
      "|RecordID|default|student|    balance|income|\n",
      "+--------+-------+-------+-----------+------+\n",
      "|      35|     No|    Yes|1423.938917|  null|\n",
      "|      46|     No|     No|     408.77|  null|\n",
      "|      10|     No|     No|        0.0|  null|\n",
      "|      63|     No|     No|        0.0|  null|\n",
      "+--------+-------+-------+-----------+------+\n",
      "\n",
      "+--------+-------+-------+-------+-----------+\n",
      "|RecordID|default|student|balance|     income|\n",
      "+--------+-------+-------+-------+-----------+\n",
      "|      71|     No|   null|   null|31577.61513|\n",
      "|      24|     No|     No|   null|30466.10326|\n",
      "|      27|     No|     No|   null| 41473.5118|\n",
      "|      68|     No|     No|   null|43658.22772|\n",
      "+--------+-------+-------+-------+-----------+\n",
      "\n"
     ]
    }
   ],
   "source": [
    "# Show me all of the null rows \n",
    "# looks like 71 appears twice so when i do list removal it should be 9988 \n",
    "#10000  - 12 = 9988\n",
    "df.filter(df.RecordID.isNull()).show()\n",
    "df.filter(df.student.isNull()).show()\n",
    "df.filter(df.default.isNull()).show()\n",
    "df.filter(df.income.isNull()).show()\n",
    "df.filter(df.balance.isNull()).show()"
   ]
  },
  {
   "cell_type": "code",
   "execution_count": 21,
   "metadata": {},
   "outputs": [
    {
     "name": "stdout",
     "output_type": "stream",
     "text": [
      "+--------+-------+-------+-----------+-----------+\n",
      "|RecordID|default|student|    balance|     income|\n",
      "+--------+-------+-------+-----------+-----------+\n",
      "|    1137|    Yes|     No|    2499.02|51504.29396|\n",
      "|       2|     No|    Yes|817.1804066| 12106.1347|\n",
      "|    6076|    Yes|     PT|    2413.32|38540.57271|\n",
      "|    9874|     No|     No|    2391.01|50302.90956|\n",
      "|       5|     No|     PT|785.6558829|38463.49588|\n",
      "|       6|     No|    Yes|919.5885305|7491.558572|\n",
      "|    6335|    Yes|     PT|     2343.8|51095.29393|\n",
      "|       8|     No|    Yes|808.6675043|17600.45134|\n",
      "|    9894|    Yes|     PT|    2288.41|52043.56905|\n",
      "|    8265|    Yes|     PT|    2236.76|37113.88307|\n",
      "|      11|     No|    Yes|        0.0|21871.07309|\n",
      "|      12|     No|    Yes|1220.583753|13268.56222|\n",
      "|    3190|    Yes|     PT|    2228.47|27438.34899|\n",
      "|    1360|    Yes|     PT|    2220.97|40725.09621|\n",
      "|    9979|    Yes|     PT|    2202.46|47287.25711|\n",
      "+--------+-------+-------+-----------+-----------+\n",
      "only showing top 15 rows\n",
      "\n",
      "(9988, 5)\n"
     ]
    }
   ],
   "source": [
    "# Perform listwise removal on rows with empty value(s).\n",
    "# Show the first 15 records to confirm the null values are gone.\n",
    "df2 = df.na.drop()\n",
    "df2.show(15)\n",
    "print((df2.count(), len(df2.columns))) # 9988 rows and 5 columns"
   ]
  },
  {
   "cell_type": "code",
   "execution_count": 7,
   "metadata": {},
   "outputs": [
    {
     "name": "stdout",
     "output_type": "stream",
     "text": [
      "+-------+------------------+\n",
      "|default|       avg(income)|\n",
      "+-------+------------------+\n",
      "|     No|33563.697893032346|\n",
      "|    Yes|32089.147124231204|\n",
      "+-------+------------------+\n",
      "\n",
      "+-------+------------------+\n",
      "|default|      avg(balance)|\n",
      "+-------+------------------+\n",
      "|     No| 804.2003095359149|\n",
      "|    Yes|1747.8216032672676|\n",
      "+-------+------------------+\n",
      "\n",
      "+-------+------------------+\n",
      "|student|       avg(income)|\n",
      "+-------+------------------+\n",
      "|     PT|40165.518941131115|\n",
      "|     No|40004.832303382434|\n",
      "|    Yes| 17949.22965257556|\n",
      "+-------+------------------+\n",
      "\n",
      "+-------+------------------+\n",
      "|student|      avg(balance)|\n",
      "+-------+------------------+\n",
      "|     PT|1299.3960019779952|\n",
      "|     No| 741.3479104701828|\n",
      "|    Yes| 987.7499992140657|\n",
      "+-------+------------------+\n",
      "\n"
     ]
    }
   ],
   "source": [
    "# Show the average balance and income by default and student.\n",
    "df2.groupBy('default').avg('income').show() # average income by default type\n",
    "df2.groupBy('default').avg('balance').show() # average balance for default type\n",
    "df2.groupBy('student').avg('income').show() # average income by student type\n",
    "df2.groupBy('student').avg('balance').show() # average balance by student\n",
    "\n",
    "# Another way of doing it harder to make sense of\n",
    "# Grouping by default and student and getting average income and balance\n",
    "#df2.groupBy('default','student').avg('income','balance').show()"
   ]
  },
  {
   "cell_type": "markdown",
   "metadata": {},
   "source": [
    "# Write also in markdown in a paragraph below the above explaining whether those people who defaulted have a higher or lower average income compared to those who did not default. Your answer must be based on the results from the previous bullet point.\n",
    "    Based on above summary stats a person who defaults typically has a 1000 dollar on average lower income. Based on default balance aggregation a person who does default has a 943 dollar larger credit balance. \n",
    "Answer =  People with lower income and higher credit balance are the people who default. "
   ]
  },
  {
   "cell_type": "code",
   "execution_count": 8,
   "metadata": {},
   "outputs": [
    {
     "name": "stdout",
     "output_type": "stream",
     "text": [
      "+-----------+-----------+\n",
      "|    balance|     income|\n",
      "+-----------+-----------+\n",
      "|    2499.02|51504.29396|\n",
      "|817.1804066| 12106.1347|\n",
      "|    2413.32|38540.57271|\n",
      "|    2391.01|50302.90956|\n",
      "|785.6558829|38463.49588|\n",
      "|919.5885305|7491.558572|\n",
      "|     2343.8|51095.29393|\n",
      "|808.6675043|17600.45134|\n",
      "|    2288.41|52043.56905|\n",
      "|    2236.76|37113.88307|\n",
      "+-----------+-----------+\n",
      "only showing top 10 rows\n",
      "\n",
      "(9988, 2)\n"
     ]
    }
   ],
   "source": [
    "# SELECT TWO COLUMNS FOR CORRELATION PURPOSES\n",
    "df3 = df2.select('balance','income')\n",
    "df3.show(10)\n",
    "print((df3.count(), len(df3.columns))) # yess full selection "
   ]
  },
  {
   "cell_type": "code",
   "execution_count": 9,
   "metadata": {
    "scrolled": true
   },
   "outputs": [],
   "source": [
    "#Show correlation between balance and income. Write a paragraph to tell me if there is a strong \n",
    "#correlation between the two.\n",
    "spark=SparkSession.builder.appName('basic_stats').getOrCreate()\n",
    "\n"
   ]
  },
  {
   "cell_type": "code",
   "execution_count": 10,
   "metadata": {},
   "outputs": [],
   "source": [
    "from pyspark.ml.feature import VectorAssembler"
   ]
  },
  {
   "cell_type": "code",
   "execution_count": 11,
   "metadata": {},
   "outputs": [
    {
     "name": "stdout",
     "output_type": "stream",
     "text": [
      "+-----------+-----------+--------------------+\n",
      "|    balance|     income|            features|\n",
      "+-----------+-----------+--------------------+\n",
      "|    2499.02|51504.29396|[2499.02,51504.29...|\n",
      "|817.1804066| 12106.1347|[817.1804066,1210...|\n",
      "|    2413.32|38540.57271|[2413.32,38540.57...|\n",
      "|    2391.01|50302.90956|[2391.01,50302.90...|\n",
      "|785.6558829|38463.49588|[785.6558829,3846...|\n",
      "|919.5885305|7491.558572|[919.5885305,7491...|\n",
      "|     2343.8|51095.29393|[2343.8,51095.29393]|\n",
      "|808.6675043|17600.45134|[808.6675043,1760...|\n",
      "|    2288.41|52043.56905|[2288.41,52043.56...|\n",
      "|    2236.76|37113.88307|[2236.76,37113.88...|\n",
      "|        0.0|21871.07309|   [0.0,21871.07309]|\n",
      "|1220.583753|13268.56222|[1220.583753,1326...|\n",
      "|    2228.47|27438.34899|[2228.47,27438.34...|\n",
      "|    2220.97|40725.09621|[2220.97,40725.09...|\n",
      "|    2202.46|47287.25711|[2202.46,47287.25...|\n",
      "|    2187.22|42205.12305|[2187.22,42205.12...|\n",
      "|    2155.29|34787.25268|[2155.29,34787.25...|\n",
      "|527.5401841|17636.53962|[527.5401841,1763...|\n",
      "|     2148.9|44309.91717|[2148.9,44309.91717]|\n",
      "|    2133.46|28237.88234|[2133.46,28237.88...|\n",
      "+-----------+-----------+--------------------+\n",
      "only showing top 20 rows\n",
      "\n"
     ]
    }
   ],
   "source": [
    "assembler = VectorAssembler(inputCols=df3.columns,outputCol=\"features\")\n",
    "df_new=assembler.transform(df3)\n",
    "df_new.show()"
   ]
  },
  {
   "cell_type": "code",
   "execution_count": 12,
   "metadata": {},
   "outputs": [
    {
     "name": "stdout",
     "output_type": "stream",
     "text": [
      "+-----------------------------------------------------------------------------------------+\n",
      "|pearson(features)                                                                        |\n",
      "+-----------------------------------------------------------------------------------------+\n",
      "|1.0                   -0.15211397584237343  \n",
      "-0.15211397584237343  1.0                   |\n",
      "+-----------------------------------------------------------------------------------------+\n",
      "\n"
     ]
    }
   ],
   "source": [
    "from pyspark.ml.stat import Correlation\n",
    "pearson_corr = Correlation.corr(df_new,'features')\n",
    "pearson_corr.show(2,False) # THERE IS NOT A STRONG CORRELATION BETWEEN THESE TWO A SMALL NEGATIVE CORRELATION"
   ]
  },
  {
   "cell_type": "code",
   "execution_count": 78,
   "metadata": {},
   "outputs": [
    {
     "data": {
      "text/plain": [
       "DataFrame[summary: string, RecordID: string, default: string, student: string, balance: string, income: string]"
      ]
     },
     "execution_count": 78,
     "metadata": {},
     "output_type": "execute_result"
    }
   ],
   "source": [
    "#Recode the student variable using One Hot Encoding.\n",
    " #must string indexer befor one hot encoding\n",
    "from pyspark.ml.feature import OneHotEncoder,StringIndexer, VectorAssembler\n",
    "df2.describe() #"
   ]
  },
  {
   "cell_type": "code",
   "execution_count": 81,
   "metadata": {},
   "outputs": [
    {
     "name": "stdout",
     "output_type": "stream",
     "text": [
      "+--------+-------+-------+-----------+-----------+-----------+\n",
      "|RecordID|default|student|    balance|     income|student_num|\n",
      "+--------+-------+-------+-----------+-----------+-----------+\n",
      "|    1137|    Yes|     No|    2499.02|51504.29396|        0.0|\n",
      "|       2|     No|    Yes|817.1804066| 12106.1347|        1.0|\n",
      "|    6076|    Yes|     PT|    2413.32|38540.57271|        2.0|\n",
      "|    9874|     No|     No|    2391.01|50302.90956|        0.0|\n",
      "|       5|     No|     PT|785.6558829|38463.49588|        2.0|\n",
      "|       6|     No|    Yes|919.5885305|7491.558572|        1.0|\n",
      "|    6335|    Yes|     PT|     2343.8|51095.29393|        2.0|\n",
      "|       8|     No|    Yes|808.6675043|17600.45134|        1.0|\n",
      "|    9894|    Yes|     PT|    2288.41|52043.56905|        2.0|\n",
      "|    8265|    Yes|     PT|    2236.76|37113.88307|        2.0|\n",
      "|      11|     No|    Yes|        0.0|21871.07309|        1.0|\n",
      "|      12|     No|    Yes|1220.583753|13268.56222|        1.0|\n",
      "|    3190|    Yes|     PT|    2228.47|27438.34899|        2.0|\n",
      "|    1360|    Yes|     PT|    2220.97|40725.09621|        2.0|\n",
      "|    9979|    Yes|     PT|    2202.46|47287.25711|        2.0|\n",
      "|    6078|    Yes|     PT|    2187.22|42205.12305|        2.0|\n",
      "|    8400|    Yes|     PT|    2155.29|34787.25268|        2.0|\n",
      "|      18|     No|    Yes|527.5401841|17636.53962|        1.0|\n",
      "|    9913|    Yes|     PT|     2148.9|44309.91717|        2.0|\n",
      "|    2449|    Yes|     PT|    2133.46|28237.88234|        2.0|\n",
      "+--------+-------+-------+-----------+-----------+-----------+\n",
      "only showing top 20 rows\n",
      "\n"
     ]
    },
    {
     "data": {
      "text/plain": [
       "DataFrame[summary: string, RecordID: string, default: string, student: string, balance: string, income: string, student_num: string]"
      ]
     },
     "execution_count": 81,
     "metadata": {},
     "output_type": "execute_result"
    }
   ],
   "source": [
    "# This only indexes one column at a time lets get default as numeric for our logistic output\n",
    "marital_indexer = StringIndexer(inputCol=\"student\",outputCol=\"student_num\").fit(df2)\n",
    "df4 = marital_indexer.transform(df2)\n",
    "df4.show()\n",
    "df4.describe()"
   ]
  },
  {
   "cell_type": "code",
   "execution_count": 86,
   "metadata": {},
   "outputs": [
    {
     "name": "stdout",
     "output_type": "stream",
     "text": [
      "+--------+-------+-------+-----------+-----------+-------------+-------------+------------+-------------+\n",
      "|RecordID|default|student|    balance|     income|student_index|default_index|income_index|balance_index|\n",
      "+--------+-------+-------+-----------+-----------+-------------+-------------+------------+-------------+\n",
      "|    1137|    Yes|     No|    2499.02|51504.29396|          0.0|          1.0|      4409.0|       1781.0|\n",
      "|       2|     No|    Yes|817.1804066| 12106.1347|          1.0|          0.0|      1880.0|       7584.0|\n",
      "|    6076|    Yes|     PT|    2413.32|38540.57271|          2.0|          1.0|      7772.0|       7911.0|\n",
      "|    9874|     No|     No|    2391.01|50302.90956|          0.0|          0.0|      6486.0|       6524.0|\n",
      "|       5|     No|     PT|785.6558829|38463.49588|          2.0|          0.0|      4620.0|       4331.0|\n",
      "|       6|     No|    Yes|919.5885305|7491.558572|          1.0|          0.0|      3885.0|       7942.0|\n",
      "|    6335|    Yes|     PT|     2343.8|51095.29393|          2.0|          1.0|      7219.0|       3579.0|\n",
      "|       8|     No|    Yes|808.6675043|17600.45134|          1.0|          0.0|      3199.0|       7457.0|\n",
      "|    9894|    Yes|     PT|    2288.41|52043.56905|          2.0|          1.0|      1241.0|       5622.0|\n",
      "|    8265|    Yes|     PT|    2236.76|37113.88307|          2.0|          1.0|      3390.0|       4924.0|\n",
      "|      11|     No|    Yes|        0.0|21871.07309|          1.0|          0.0|      4527.0|          0.0|\n",
      "|      12|     No|    Yes|1220.583753|13268.56222|          1.0|          0.0|      6215.0|       9275.0|\n",
      "|    3190|    Yes|     PT|    2228.47|27438.34899|          2.0|          1.0|      4830.0|       6970.0|\n",
      "|    1360|    Yes|     PT|    2220.97|40725.09621|          2.0|          1.0|      1995.0|       3020.0|\n",
      "|    9979|    Yes|     PT|    2202.46|47287.25711|          2.0|          1.0|      9549.0|       8015.0|\n",
      "|    6078|    Yes|     PT|    2187.22|42205.12305|          2.0|          1.0|       479.0|       5815.0|\n",
      "|    8400|    Yes|     PT|    2155.29|34787.25268|          2.0|          1.0|       699.0|       1184.0|\n",
      "|      18|     No|    Yes|527.5401841|17636.53962|          1.0|          0.0|      3225.0|        882.0|\n",
      "|    9913|    Yes|     PT|     2148.9|44309.91717|          2.0|          1.0|      5874.0|       4607.0|\n",
      "|    2449|    Yes|     PT|    2133.46|28237.88234|          2.0|          1.0|      7391.0|       8152.0|\n",
      "+--------+-------+-------+-----------+-----------+-------------+-------------+------------+-------------+\n",
      "only showing top 20 rows\n",
      "\n"
     ]
    }
   ],
   "source": [
    "# Creating a pipeline for muliple columns to be indexed if needed\n",
    "# here we convert all of our categorical columns to string\n",
    "from pyspark.ml import Pipeline\n",
    "from pyspark.ml.feature import StringIndexer\n",
    "indexers = [StringIndexer(inputCol=column, outputCol=column+\"_index\").fit(df2) for column in list(set(df2.columns)-set(['RecordID'])) ]\n",
    "\n",
    "\n",
    "pipeline = Pipeline(stages=indexers)\n",
    "df_r = pipeline.fit(df2).transform(df2)\n",
    "\n",
    "df_r.show()"
   ]
  },
  {
   "cell_type": "code",
   "execution_count": 89,
   "metadata": {},
   "outputs": [
    {
     "name": "stdout",
     "output_type": "stream",
     "text": [
      "+-----+-----------+-----------+-------------+\n",
      "|label|    balance|     income|student_index|\n",
      "+-----+-----------+-----------+-------------+\n",
      "|  1.0|    2499.02|51504.29396|          0.0|\n",
      "|  0.0|817.1804066| 12106.1347|          1.0|\n",
      "|  1.0|    2413.32|38540.57271|          2.0|\n",
      "|  0.0|    2391.01|50302.90956|          0.0|\n",
      "|  0.0|785.6558829|38463.49588|          2.0|\n",
      "|  0.0|919.5885305|7491.558572|          1.0|\n",
      "|  1.0|     2343.8|51095.29393|          2.0|\n",
      "|  0.0|808.6675043|17600.45134|          1.0|\n",
      "|  1.0|    2288.41|52043.56905|          2.0|\n",
      "|  1.0|    2236.76|37113.88307|          2.0|\n",
      "|  0.0|        0.0|21871.07309|          1.0|\n",
      "|  0.0|1220.583753|13268.56222|          1.0|\n",
      "|  1.0|    2228.47|27438.34899|          2.0|\n",
      "|  1.0|    2220.97|40725.09621|          2.0|\n",
      "|  1.0|    2202.46|47287.25711|          2.0|\n",
      "|  1.0|    2187.22|42205.12305|          2.0|\n",
      "|  1.0|    2155.29|34787.25268|          2.0|\n",
      "|  0.0|527.5401841|17636.53962|          1.0|\n",
      "|  1.0|     2148.9|44309.91717|          2.0|\n",
      "|  1.0|    2133.46|28237.88234|          2.0|\n",
      "+-----+-----------+-----------+-------------+\n",
      "only showing top 20 rows\n",
      "\n"
     ]
    }
   ],
   "source": [
    "# lets assign dataframe to df4\n",
    "# now lets select the appropriate columns in the data frame \n",
    "df4 = df_r\n",
    "df4 = df4.select(\"default_index\",\"balance\",\"income\",\"student_index\")\n",
    "df4 = df4.withColumnRenamed(\"default_index\", \"label\") # rename column for ease of prediction\n",
    "df4.show()"
   ]
  },
  {
   "cell_type": "code",
   "execution_count": 90,
   "metadata": {},
   "outputs": [
    {
     "name": "stdout",
     "output_type": "stream",
     "text": [
      "+-----+-----------+-----------+-------------+--------------+\n",
      "|label|    balance|     income|student_index|student_vector|\n",
      "+-----+-----------+-----------+-------------+--------------+\n",
      "|  1.0|    2499.02|51504.29396|          0.0| (2,[0],[1.0])|\n",
      "|  0.0|817.1804066| 12106.1347|          1.0| (2,[1],[1.0])|\n",
      "|  1.0|    2413.32|38540.57271|          2.0|     (2,[],[])|\n",
      "|  0.0|    2391.01|50302.90956|          0.0| (2,[0],[1.0])|\n",
      "|  0.0|785.6558829|38463.49588|          2.0|     (2,[],[])|\n",
      "|  0.0|919.5885305|7491.558572|          1.0| (2,[1],[1.0])|\n",
      "|  1.0|     2343.8|51095.29393|          2.0|     (2,[],[])|\n",
      "|  0.0|808.6675043|17600.45134|          1.0| (2,[1],[1.0])|\n",
      "|  1.0|    2288.41|52043.56905|          2.0|     (2,[],[])|\n",
      "|  1.0|    2236.76|37113.88307|          2.0|     (2,[],[])|\n",
      "|  0.0|        0.0|21871.07309|          1.0| (2,[1],[1.0])|\n",
      "|  0.0|1220.583753|13268.56222|          1.0| (2,[1],[1.0])|\n",
      "|  1.0|    2228.47|27438.34899|          2.0|     (2,[],[])|\n",
      "|  1.0|    2220.97|40725.09621|          2.0|     (2,[],[])|\n",
      "|  1.0|    2202.46|47287.25711|          2.0|     (2,[],[])|\n",
      "|  1.0|    2187.22|42205.12305|          2.0|     (2,[],[])|\n",
      "|  1.0|    2155.29|34787.25268|          2.0|     (2,[],[])|\n",
      "|  0.0|527.5401841|17636.53962|          1.0| (2,[1],[1.0])|\n",
      "|  1.0|     2148.9|44309.91717|          2.0|     (2,[],[])|\n",
      "|  1.0|    2133.46|28237.88234|          2.0|     (2,[],[])|\n",
      "+-----+-----------+-----------+-------------+--------------+\n",
      "only showing top 20 rows\n",
      "\n"
     ]
    }
   ],
   "source": [
    "# now upload appropriate stuff for one hot encoder\n",
    "\n",
    "marital_encoder = OneHotEncoder(inputCol=\"student_index\",outputCol=\"student_vector\")\n",
    "df5 = marital_encoder.transform(df4)\n",
    "df5.describe()\n",
    "df5.show()\n"
   ]
  },
  {
   "cell_type": "code",
   "execution_count": 91,
   "metadata": {},
   "outputs": [
    {
     "name": "stdout",
     "output_type": "stream",
     "text": [
      "+-----+-----------+-----------+--------------+\n",
      "|label|    balance|     income|student_vector|\n",
      "+-----+-----------+-----------+--------------+\n",
      "|  1.0|    2499.02|51504.29396| (2,[0],[1.0])|\n",
      "|  0.0|817.1804066| 12106.1347| (2,[1],[1.0])|\n",
      "|  1.0|    2413.32|38540.57271|     (2,[],[])|\n",
      "|  0.0|    2391.01|50302.90956| (2,[0],[1.0])|\n",
      "|  0.0|785.6558829|38463.49588|     (2,[],[])|\n",
      "|  0.0|919.5885305|7491.558572| (2,[1],[1.0])|\n",
      "|  1.0|     2343.8|51095.29393|     (2,[],[])|\n",
      "|  0.0|808.6675043|17600.45134| (2,[1],[1.0])|\n",
      "|  1.0|    2288.41|52043.56905|     (2,[],[])|\n",
      "|  1.0|    2236.76|37113.88307|     (2,[],[])|\n",
      "|  0.0|        0.0|21871.07309| (2,[1],[1.0])|\n",
      "|  0.0|1220.583753|13268.56222| (2,[1],[1.0])|\n",
      "|  1.0|    2228.47|27438.34899|     (2,[],[])|\n",
      "|  1.0|    2220.97|40725.09621|     (2,[],[])|\n",
      "|  1.0|    2202.46|47287.25711|     (2,[],[])|\n",
      "|  1.0|    2187.22|42205.12305|     (2,[],[])|\n",
      "|  1.0|    2155.29|34787.25268|     (2,[],[])|\n",
      "|  0.0|527.5401841|17636.53962| (2,[1],[1.0])|\n",
      "|  1.0|     2148.9|44309.91717|     (2,[],[])|\n",
      "|  1.0|    2133.46|28237.88234|     (2,[],[])|\n",
      "+-----+-----------+-----------+--------------+\n",
      "only showing top 20 rows\n",
      "\n"
     ]
    }
   ],
   "source": [
    "# Select appropriate columns\n",
    "df6 = df5.select(\"label\",\"balance\",\"income\",\"student_vector\")\n",
    "df6.show()"
   ]
  },
  {
   "cell_type": "code",
   "execution_count": 102,
   "metadata": {},
   "outputs": [
    {
     "name": "stdout",
     "output_type": "stream",
     "text": [
      "+-----+-----------+-----------+--------------+---------------------------------+\n",
      "|label|balance    |income     |student_vector|features                         |\n",
      "+-----+-----------+-----------+--------------+---------------------------------+\n",
      "|1.0  |2499.02    |51504.29396|(2,[0],[1.0]) |[2499.02,51504.29396,1.0,0.0]    |\n",
      "|0.0  |817.1804066|12106.1347 |(2,[1],[1.0]) |[817.1804066,12106.1347,0.0,1.0] |\n",
      "|1.0  |2413.32    |38540.57271|(2,[],[])     |[2413.32,38540.57271,0.0,0.0]    |\n",
      "|0.0  |2391.01    |50302.90956|(2,[0],[1.0]) |[2391.01,50302.90956,1.0,0.0]    |\n",
      "|0.0  |785.6558829|38463.49588|(2,[],[])     |[785.6558829,38463.49588,0.0,0.0]|\n",
      "|0.0  |919.5885305|7491.558572|(2,[1],[1.0]) |[919.5885305,7491.558572,0.0,1.0]|\n",
      "|1.0  |2343.8     |51095.29393|(2,[],[])     |[2343.8,51095.29393,0.0,0.0]     |\n",
      "|0.0  |808.6675043|17600.45134|(2,[1],[1.0]) |[808.6675043,17600.45134,0.0,1.0]|\n",
      "|1.0  |2288.41    |52043.56905|(2,[],[])     |[2288.41,52043.56905,0.0,0.0]    |\n",
      "|1.0  |2236.76    |37113.88307|(2,[],[])     |[2236.76,37113.88307,0.0,0.0]    |\n",
      "|0.0  |0.0        |21871.07309|(2,[1],[1.0]) |[0.0,21871.07309,0.0,1.0]        |\n",
      "|0.0  |1220.583753|13268.56222|(2,[1],[1.0]) |[1220.583753,13268.56222,0.0,1.0]|\n",
      "|1.0  |2228.47    |27438.34899|(2,[],[])     |[2228.47,27438.34899,0.0,0.0]    |\n",
      "|1.0  |2220.97    |40725.09621|(2,[],[])     |[2220.97,40725.09621,0.0,0.0]    |\n",
      "|1.0  |2202.46    |47287.25711|(2,[],[])     |[2202.46,47287.25711,0.0,0.0]    |\n",
      "|1.0  |2187.22    |42205.12305|(2,[],[])     |[2187.22,42205.12305,0.0,0.0]    |\n",
      "|1.0  |2155.29    |34787.25268|(2,[],[])     |[2155.29,34787.25268,0.0,0.0]    |\n",
      "|0.0  |527.5401841|17636.53962|(2,[1],[1.0]) |[527.5401841,17636.53962,0.0,1.0]|\n",
      "|1.0  |2148.9     |44309.91717|(2,[],[])     |[2148.9,44309.91717,0.0,0.0]     |\n",
      "|1.0  |2133.46    |28237.88234|(2,[],[])     |[2133.46,28237.88234,0.0,0.0]    |\n",
      "+-----+-----------+-----------+--------------+---------------------------------+\n",
      "only showing top 20 rows\n",
      "\n"
     ]
    }
   ],
   "source": [
    "# make label and feature columns\n",
    "VecAssembler=VectorAssembler(inputCols=['balance','income', 'student_vector'],outputCol='features')\n",
    "df7 = VecAssembler.transform(df6)\n",
    "df7.show(20,False)"
   ]
  },
  {
   "cell_type": "code",
   "execution_count": 103,
   "metadata": {},
   "outputs": [
    {
     "name": "stdout",
     "output_type": "stream",
     "text": [
      "+-----+---------------------------------+\n",
      "|label|features                         |\n",
      "+-----+---------------------------------+\n",
      "|1.0  |[2499.02,51504.29396,1.0,0.0]    |\n",
      "|0.0  |[817.1804066,12106.1347,0.0,1.0] |\n",
      "|1.0  |[2413.32,38540.57271,0.0,0.0]    |\n",
      "|0.0  |[2391.01,50302.90956,1.0,0.0]    |\n",
      "|0.0  |[785.6558829,38463.49588,0.0,0.0]|\n",
      "|0.0  |[919.5885305,7491.558572,0.0,1.0]|\n",
      "|1.0  |[2343.8,51095.29393,0.0,0.0]     |\n",
      "|0.0  |[808.6675043,17600.45134,0.0,1.0]|\n",
      "|1.0  |[2288.41,52043.56905,0.0,0.0]    |\n",
      "|1.0  |[2236.76,37113.88307,0.0,0.0]    |\n",
      "|0.0  |[0.0,21871.07309,0.0,1.0]        |\n",
      "|0.0  |[1220.583753,13268.56222,0.0,1.0]|\n",
      "|1.0  |[2228.47,27438.34899,0.0,0.0]    |\n",
      "|1.0  |[2220.97,40725.09621,0.0,0.0]    |\n",
      "|1.0  |[2202.46,47287.25711,0.0,0.0]    |\n",
      "|1.0  |[2187.22,42205.12305,0.0,0.0]    |\n",
      "|1.0  |[2155.29,34787.25268,0.0,0.0]    |\n",
      "|0.0  |[527.5401841,17636.53962,0.0,1.0]|\n",
      "|1.0  |[2148.9,44309.91717,0.0,0.0]     |\n",
      "|1.0  |[2133.46,28237.88234,0.0,0.0]    |\n",
      "+-----+---------------------------------+\n",
      "only showing top 20 rows\n",
      "\n"
     ]
    }
   ],
   "source": [
    "# Select only label and features\n",
    "df8 = df7.select(\"label\",\"features\")\n",
    "df8.show(20,False)"
   ]
  },
  {
   "cell_type": "code",
   "execution_count": 104,
   "metadata": {},
   "outputs": [
    {
     "name": "stdout",
     "output_type": "stream",
     "text": [
      "Size of train Dataset : 7563\n",
      "Size of test Dataset : 2425\n"
     ]
    }
   ],
   "source": [
    "# Make 75 train and 25 test with printing out the number of rows in each\n",
    "train, test = df8.randomSplit([0.75, 0.25])\n",
    "print(f\"Size of train Dataset : {train.count()}\" )\n",
    "print(f\"Size of test Dataset : {test.count()}\" )"
   ]
  },
  {
   "cell_type": "code",
   "execution_count": 105,
   "metadata": {},
   "outputs": [],
   "source": [
    "# import package needed for logistic regression\n",
    "from pyspark.ml.classification import LogisticRegression\n",
    "log_reg=LogisticRegression().fit(train)"
   ]
  },
  {
   "cell_type": "code",
   "execution_count": 107,
   "metadata": {},
   "outputs": [
    {
     "name": "stdout",
     "output_type": "stream",
     "text": [
      "[0.9774557165861514, 0.7207207207207207]\n",
      "[0.9957621326042378, 0.3225806451612903]\n",
      "+-----+--------------------+--------------------+--------------------+----------+\n",
      "|label|            features|       rawPrediction|         probability|prediction|\n",
      "+-----+--------------------+--------------------+--------------------+----------+\n",
      "|  0.0|(4,[1],[36302.528...|[10.9583369896521...|[0.99998258806037...|       0.0|\n",
      "|  0.0|(4,[1],[42284.682...|[10.9501964788627...|[0.99998244574229...|       0.0|\n",
      "|  0.0|[0.0,10276.25611,...|[11.6015882796459...|[0.99999084854276...|       0.0|\n",
      "|  0.0|[0.0,10593.92125,...|[10.8123115050393...|[0.99997985051150...|       0.0|\n",
      "|  0.0|[0.0,13760.29846,...|[11.5968471971493...|[0.99999080505234...|       0.0|\n",
      "|  0.0|[0.0,14874.80021,...|[11.5953305839143...|[0.99999079109670...|       0.0|\n",
      "|  0.0|[0.0,15759.91517,...|[11.5941261200695...|[0.99999077999833...|       0.0|\n",
      "|  0.0|[0.0,15986.24197,...|[11.5938181347117...|[0.99999077715830...|       0.0|\n",
      "|  0.0|[0.0,16451.94239,...|[11.5931844098920...|[0.99999077131175...|       0.0|\n",
      "|  0.0|[0.0,16979.89307,...|[11.5924659749602...|[0.99999076467922...|       0.0|\n",
      "+-----+--------------------+--------------------+--------------------+----------+\n",
      "only showing top 10 rows\n",
      "\n"
     ]
    }
   ],
   "source": [
    "summary=log_reg.summary\n",
    "log_reg.summary.accuracy\n",
    "\n",
    "log_reg.summary.areaUnderROC\n",
    "\n",
    "print(log_reg.summary.precisionByLabel)\n",
    "\n",
    "print(log_reg.summary.recallByLabel)\n",
    "predictions = log_reg.transform(test)\n",
    "predictions.show(10)"
   ]
  }
 ],
 "metadata": {
  "kernelspec": {
   "display_name": "Python3.6 + Pyspark(Spark 2.2.0)",
   "language": "python",
   "name": "pyspark2"
  },
  "language_info": {
   "codemirror_mode": {
    "name": "ipython",
    "version": 3
   },
   "file_extension": ".py",
   "mimetype": "text/x-python",
   "name": "python",
   "nbconvert_exporter": "python",
   "pygments_lexer": "ipython3",
   "version": "3.6.2"
  }
 },
 "nbformat": 4,
 "nbformat_minor": 4
}
